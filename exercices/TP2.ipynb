{
 "cells": [
  {
   "cell_type": "markdown",
   "metadata": {},
   "source": [
    "\n",
    "## Objectifs\n",
    "##### 1 Lire et traiter des données d'entrée avec [PANDAS](https://pandas.pydata.org/)\n",
    "\n",
    "##### 2 Représenter la distribution empirique des \"fold-change\" (**FC**) vs Précision, aka: volcano-plot\n",
    "    \n",
    "##### 3 Effectuer une analyse de sur-représentation en termes GO\n",
    "\n",
    "\n",
    "## Ressources : Rappels et illustration de l'analyse de représentation de termes GO\n",
    "###### [TP de MADP](https://github.com/glaunay/tp-proteomics#3-obtention-des-param%C3%A8tres-du-mod%C3%A8le)\n",
    "###### [Fiche Bioconductor](https://www.bioconductor.org/help/course-materials/2015/SeattleApr2015/E_GeneSetEnrichment.html)\n",
    "\n"
   ]
  },
  {
   "cell_type": "markdown",
   "metadata": {},
   "source": [
    "### Préparation de  l'environnement\n",
    "\n",
    "##### Please `pip install -r requirements.txt` first\n",
    "\n",
    "##### Directory Configuration\n",
    "\n",
    "* `workDir` points to the Git project, holds the *tsv* file\n",
    "* `libDir` points to Git project subdirectory hosting python library with files names `go.py  stat_utils.py  uniprot.py`\n",
    "* `dataDir` points to the data folder with uniprot and GO files"
   ]
  },
  {
   "cell_type": "code",
   "execution_count": 1,
   "metadata": {},
   "outputs": [],
   "source": [
    "import sys, os\n",
    "workDir = f\"{os.getcwd()}/..\"\n",
    "libDir = f\"{workDir}/lib\"\n",
    "dataDir= f\"{workDir}/data\" \n",
    "\n",
    "sys.path.append(libDir)"
   ]
  },
  {
   "cell_type": "code",
   "execution_count": 2,
   "metadata": {},
   "outputs": [],
   "source": [
    "%load_ext autoreload\n",
    "%autoreload 2"
   ]
  },
  {
   "cell_type": "code",
   "execution_count": 3,
   "metadata": {},
   "outputs": [],
   "source": [
    "import pandas\n",
    "import numpy as np"
   ]
  },
  {
   "cell_type": "code",
   "execution_count": 4,
   "metadata": {},
   "outputs": [],
   "source": [
    "%matplotlib inline\n",
    "import matplotlib.pyplot as plt"
   ]
  },
  {
   "cell_type": "markdown",
   "metadata": {},
   "source": [
    "## Jeux de données\n",
    "* Jeux de données de protéomique quantitative au format TSV\n",
    "* Ontologie GO au format [owl](http://www.obofoundry.org/ontology/go.html)\n",
    "* Entrées Uniprot au format XML\n",
    "    * Protéines de l'étude\n",
    "    * Protéome d'E.Coli complet\n",
    "    \n",
    "<hr style=\"border:1px solid gray\"> </hr>"
   ]
  },
  {
   "cell_type": "markdown",
   "metadata": {},
   "source": [
    "### Lecture des valeurs experimentales\n",
    "Charger ```TCL_wt1.tsv``` dans une [dataframe pandas](https://pandas.pydata.org/pandas-docs/stable/reference/api/pandas.read_csv.html).\n",
    "<br/><span style=\"color:firebrick;font-weight:bold\"> $\\rhd$ \n",
    "Retirer les lignes présentant des aberrations numériques\n",
    "</span>\n",
    "<br/><span style=\"color:firebrick;font-weight:bold\">$\\rhd$ Attention aux types des colonnes !</span>"
   ]
  },
  {
   "cell_type": "code",
   "execution_count": null,
   "metadata": {},
   "outputs": [],
   "source": [
    "dico = {\"Accesion\" : str, \n",
    "        \"Description\" : str, \n",
    "        \"Gene Symbol\" : str, \n",
    "        \"Corrected Abundance Ratio (1.53)\" : float,\n",
    "        \"Log2 Corrected Abundance Ratio\" : float,\n",
    "        \"Abundance Ratio Adj. P-Value: (127. T3 Tc WT) / (126. T0 WT)\" : float,\n",
    "        \"LOG10 Adj.P-val\" : float}\n",
    "\n",
    "df = pandas.read_csv(\"../TCL_wt1.tsv\", header = 0, delimiter = \"\\t\", dtype = dico, na_values = [\"#VALEUR!\", \"nan\"])\n",
    "df = df.dropna()\n",
    "df.head(3)"
   ]
  },
  {
   "cell_type": "markdown",
   "metadata": {},
   "source": [
    "##### 1. Un premier volcano-plot\n",
    "\n",
    "Ce type de figure représente pour chaque protéine en abscisse le taux d'abondance et en ordonnée la précision de la mesure.\n",
    "\n",
    "<span style=\"color:firebrick;font-weight:bold\">$\\rhd$ 1. Réaliser un scatter plot matplotlib avec</span>\n",
    "<br/><span style=\"color:firebrick;font-weight:bold\">- en x, `Log2 Corrected Abundance Ratio`</span>\n",
    "<br/><span style=\"color:firebrick;font-weight:bold\">-  en y, `LOG10 Adj.P-val`</span>\n",
    "\n",
    "<span style=\"color:firebrick;font-weight:bold\">$\\rhd$Vous légenderez les axes, attention `LOG10 Adj.P-val` est en fait `-LOG10 Adj.P-val`, regardez bien.</span>"
   ]
  },
  {
   "cell_type": "markdown",
   "metadata": {},
   "source": [
    "##### 2. Réaliser des versions évoluées du graphique précédent\n",
    "L'objectif est de mettre l'accent sur la région **-Log10 adj Pvalue > 4** et **Log2 corrected abundance ratio > 0**.\n",
    "<br/>Pour cela vous revisiterez le scatter plot précedent au travers des versions suivantes:\n",
    "<br/><span style=\"color:firebrick;font-weight:bold\"> $\\rhd$ première version : un rectangle de la couleur de votre choix matérialisera la région</span>\n",
    "<br/><span style=\"color:firebrick;font-weight:bold\"> $\\rhd$ deuxième version  : une couleur de votre choix représentera les points de la région</span>\n",
    "<br/><span style=\"color:firebrick;font-weight:bold\"> $\\rhd$ troisème version (optionnel): Les identifiants uniprot remplaceront les points des protéines de la région</span>"
   ]
  },
  {
   "cell_type": "code",
   "execution_count": null,
   "metadata": {},
   "outputs": [],
   "source": [
    "x = df[\"Log2 Corrected Abundance Ratio\"]\n",
    "y = df[\"LOG10 Adj.P-val\"]\n",
    "\n",
    "fig, ax = plt.subplots()\n",
    "\n",
    "ax.scatter(x, y)\n",
    "ax.set_xlabel(\"Log2 Ratio\")\n",
    "ax.set_ylabel(\"Log10 P-val\")\n",
    "\n",
    "# Version 1\n",
    "import matplotlib.patches as patches\n",
    "\n",
    "x_ancre = min(x[x>0])\n",
    "y_ancre = min(y[y>4])\n",
    "\n",
    "rect = patches.Rectangle((x_ancre, y_ancre), max(x)+0.2, 3, linewidth=1, edgecolor='r', facecolor='none')\n",
    "ax.add_patch(rect)"
   ]
  },
  {
   "cell_type": "code",
   "execution_count": null,
   "metadata": {},
   "outputs": [],
   "source": [
    "# Version 2\n",
    "\n",
    "x = df[\"Log2 Corrected Abundance Ratio\"]\n",
    "y = df[\"LOG10 Adj.P-val\"]\n",
    "\n",
    "fig, ax = plt.subplots()\n",
    "\n",
    "ax.scatter(x, y)\n",
    "ax.set_xlabel(\"Log2 Ratio\")\n",
    "ax.set_ylabel(\"Log10 P-val\")\n",
    "\n",
    "x_2 = []\n",
    "y_2 = []\n",
    "\n",
    "for i in range(len(x)):\n",
    "    if list(x)[i] > 0 and list(y)[i] > 4:\n",
    "        x_2.append(list(x)[i])\n",
    "        y_2.append(list(y)[i])\n",
    "\n",
    "ax.scatter(x_2, y_2, color = \"r\")"
   ]
  },
  {
   "cell_type": "code",
   "execution_count": null,
   "metadata": {},
   "outputs": [],
   "source": [
    "# Version 3\n",
    "x = df[\"Log2 Corrected Abundance Ratio\"]\n",
    "y = df[\"LOG10 Adj.P-val\"]\n",
    "label = df[\"Accession\"]\n",
    "\n",
    "fig, ax = plt.subplots(figsize = (10,6))\n",
    "\n",
    "x_not = []\n",
    "y_not = []\n",
    "x_yes = []\n",
    "y_yes = []\n",
    "label_test = []\n",
    "\n",
    "for i in range(len(x)):\n",
    "    if list(x)[i] < 0 or list(y)[i] < 4:\n",
    "        x_not.append(list(x)[i])\n",
    "        y_not.append(list(y)[i])\n",
    "    else:\n",
    "        label_test.append(list(label)[i])\n",
    "        x_yes.append(list(x)[i])\n",
    "        y_yes.append(list(y)[i])\n",
    "        \n",
    "\n",
    "\n",
    "ax.scatter(x_not, y_not)\n",
    "ax.set_xlabel(\"Log2 Ratio\")\n",
    "ax.set_ylabel(\"Log10 P-val\")\n",
    "\n",
    "for i, txt in enumerate(label_test):\n",
    "    ax.annotate(txt, (x_yes[i], y_yes[i]))\n"
   ]
  },
  {
   "cell_type": "markdown",
   "metadata": {},
   "source": [
    "#### Analyse ORA\n",
    "\n",
    "##### Principes\n",
    "Vous disposez d'un objet analyser permettant de réaliser une analyse de la sur-représentation (**ORA**) en termes GO parmi une liste de protéine d'intérêt.\n",
    "La fréquence des termes GO dans le protéome totale est utilisée comme référence.\n",
    "\n",
    "L'objet analyser s'instancie ainsi\n",
    "```python\n",
    "from stat_utils import GO_ORA_analyser\n",
    "o = GO_ORA_analyser(f\"{dataDir}/go.owl\", f\"{dataDir}/K12_proteome\", f\"{dataDir}/dataset\")\n",
    "```\n",
    "\n",
    "Il fournit une méthode pour chaque catégorie de termes GO\n",
    "<i>{ biological_process, molecular_function, cellular_component }</i>\n",
    "\n",
    "Une éventuelle surreprésentation des termes GO de la catégorie <i>biological_process</i> est par exemple calculée parmi les protéines P29744 et P05706 de la façon suivante:\n",
    "\n",
    "```python\n",
    "goTerm_scores = o.biological_process([\"P29744\", \"P05706\"])\n",
    "```\n",
    "<span style=\"color:green;font-weight:bold\">$\\uparrow$ Reproduire cet exemple dans la cellule ci-dessous.$\\downarrow$ </span>\n",
    "</br><span style=\"color:firebrick;font-weight:bold\"> $\\rhd$ Inspecter l'objet retourné par la méthode o.biological_process, que voyez-vous ?</span>"
   ]
  },
  {
   "cell_type": "code",
   "execution_count": null,
   "metadata": {},
   "outputs": [],
   "source": [
    "from stat_utils import GO_ORA_analyser\n",
    "o = GO_ORA_analyser(f\"{dataDir}\\go.owl\", f\"{dataDir}\\K12_proteome\", f\"{dataDir}\\dataset\")"
   ]
  },
  {
   "cell_type": "code",
   "execution_count": null,
   "metadata": {},
   "outputs": [],
   "source": [
    "goTerm_scores = o.biological_process([\"P29744\", \"P05706\"])"
   ]
  },
  {
   "cell_type": "code",
   "execution_count": null,
   "metadata": {},
   "outputs": [],
   "source": [
    "goTerm_scores"
   ]
  },
  {
   "cell_type": "markdown",
   "metadata": {},
   "source": [
    "###### 2/ Analyser la représentation des termes GO parmi les protéines surabondantes de l'experience\n",
    "<span style=\"color:firebrick;font-weight:bold\"> $\\rhd$ Vous devrez extraire les identifiants uniprot des protéines aux `Log2 Corrected Abundance Ratio` supérieurs au seuil alpha de 5%.</span>\n",
    "<br/><span style=\"color:firebrick;font-weight:bold\"> $\\rhd$ Vous conduirez sur cette liste de protéines une analyse de sur-représentation en termes GO à l'aide d'un objet *GO_ORA_analyser*.</span>\n",
    "<br/><span style=\"color:firebrick;font-weight:bold\"> $\\rhd$ Vous pouvez faire varier le seuil d'abondance autour de la valeur alpha.</span>\n",
    "<br/><span style=\"color:firebrick;font-weight:bold\"> $\\rhd$ Vous traiterez les 3 catégories *biological_process / molecular_function /cellular_component*.</span>\n",
    "\n",
    "\n",
    "\n",
    "Familiarisez-vous avec la structures des dictionnaires de résultas, vous pouvez [les sauvegarder au format json](https://docs.python.org/3/library/json.html).\n"
   ]
  },
  {
   "cell_type": "code",
   "execution_count": null,
   "metadata": {},
   "outputs": [],
   "source": [
    "prot_log2 = df.query('`Log2 Corrected Abundance Ratio`>-0.096')['Accession']\n",
    "prot_log2.shape\n",
    "plog2 = prot_log2.to_list()"
   ]
  },
  {
   "cell_type": "code",
   "execution_count": null,
   "metadata": {},
   "outputs": [],
   "source": [
    "o2 = GO_ORA_analyser(f\"{dataDir}/go.owl\", f\"{dataDir}/K12_proteome\", f\"{dataDir}/dataset\")\n",
    "\n",
    "bioprocess_plog2 = o2.biological_process(plog2)\n",
    "\n",
    "molfun_plog2 = o2.molecular_function(plog2)\n",
    "\n",
    "cellcomp_plog2 = o2.cellular_component(plog2)"
   ]
  },
  {
   "cell_type": "code",
   "execution_count": null,
   "metadata": {},
   "outputs": [],
   "source": [
    "molfun_plog2\n",
    "cellcomp_plog2\n",
    "bioprocess_plog2"
   ]
  },
  {
   "cell_type": "code",
   "execution_count": null,
   "metadata": {},
   "outputs": [],
   "source": [
    "dbp_plog2 = list()\n",
    "for i in bioprocess_plog2:\n",
    "    dico_dat = {k:j for k, j in zip([\"pval\", \"GO_term\", \"GO_num\", \"protein\"], i)}\n",
    "    dbp_plog2.append(dico_dat)\n",
    "    \n",
    "\n",
    "dmf_plog2 = list()\n",
    "for i in molfun_plog2:\n",
    "    dico_dat = {k:j for k, j in zip([\"pval\", \"GO_term\", \"GO_num\", \"protein\"], i)}\n",
    "    dmf_plog2.append(dico_dat)\n",
    "    \n",
    "    \n",
    "dcc_plog2 = list()\n",
    "for i in cellcomp_plog2:\n",
    "    dico_dat = {k:j for k, j in zip([\"pval\", \"GO_term\", \"GO_num\", \"protein\"], i)}\n",
    "    dcc_plog2.append(dico_dat)"
   ]
  },
  {
   "cell_type": "code",
   "execution_count": null,
   "metadata": {},
   "outputs": [],
   "source": [
    "dmf_plog2"
   ]
  },
  {
   "cell_type": "code",
   "execution_count": null,
   "metadata": {},
   "outputs": [],
   "source": [
    "proteins_hits_GO_annot = GO_list(dmf_plog2, \"molecular function\")\n",
    "\n",
    "proteins_hits_GO_annot"
   ]
  },
  {
   "cell_type": "markdown",
   "metadata": {},
   "source": [
    "## Une première application: représentation riche du résultat de l'analyse\n",
    "\n",
    "\n",
    "### Mise en forme \"riche\" des résultats grâce au notebook\n",
    "\n",
    "Jupyter permet d'étendre le concept de la méthode **__str__()** afin de produire du contenu HTML.\n",
    " Ainsi, tout objet impémentant une méthode **_repr_html_()** sera affiché, via son rendu HTML, dans la cellule d'un notebook.\n",
    "\n",
    "```python\n",
    "class Point():\n",
    "    def __init__(self, x, y, z):\n",
    "        self.x = x\n",
    "        self.y = y\n",
    "        self.z = z\n",
    "    def _repr_html_(self):\n",
    "        htmlString = \"<table><thead><tr><td>Abscisse</td><td>Ordonnée</td><td>Cote</td></tr></thead>\"\n",
    "        htmlString += f\"<tbody><tr><td>{self.x}</td><td>{self.y}</td><td>{self.z}</td></tr></tbody></table>\"\n",
    "        return htmlString\n",
    "Point(2,3,4)\n",
    "```\n",
    "Affichera\n",
    "\n",
    "![caption](../figs/reprhtml.png)\n",
    "\n",
    "\n",
    "### Intégration des résultats à la visualisation du notebook \n",
    "\n",
    "En vous inspirant de la fonction ci-dessus, implémenter une classe Rich_GO_ORA dont la méthode [`_repr_html_`](https://ipython.readthedocs.io/en/stable/config/integrating.html) permettra un affichage plus lisible d'une des analyses `biological_process / molecular_function /cellular_component`\n",
    "\n",
    "Un exemple possible est,\n",
    "![caption](../figs/_repr_html_.png)\n",
    "\n",
    "(Bonus): clicker sur le nom du terme GO envoie vers sa description.\n",
    "Pour cela, afficher le nom du pathway dans une balise hyperlien pour permettre d'acceder à la page de description du terme GO. \n",
    "\n",
    "Les termes GO sont accessibles aux URL de la forme\n",
    "`http://amigo.geneontology.org/amigo/term/GO:GO_NUMBER`.\n",
    "\n",
    "\n"
   ]
  },
  {
   "cell_type": "code",
   "execution_count": null,
   "metadata": {},
   "outputs": [],
   "source": [
    "class GO():\n",
    "    def __init__(self, dico):\n",
    "        self.pval = dico[\"pval\"]\n",
    "        self.GO_term = dico[\"GO_term\"]\n",
    "        self.GO_num = dico[\"GO_num\"]\n",
    "        self.protein = dico[\"protein\"]\n",
    "        \n",
    "    def _repr_html_(self):\n",
    "        link = f\"<a href='http://amigo.geneontology.org/amigo/term/{self.GO_num}'>{self.GO_num}</a>\"\n",
    "        htmlString = f\"<tbody><tr><td>{np.round(self.pval, 8)}</td><td>{self.GO_term}</td><td>{link}</td><td>{len(self.protein)}</td></tr></tbody>\"\n",
    "        return htmlString\n",
    "    \n",
    "\n",
    "class GO_list():  #collection of GO instance \n",
    "    def __init__(self, a_list, desc):\n",
    "        self.list = [GO(i) for i in a_list]\n",
    "        self.desc = desc\n",
    "        \n",
    "    def _repr_html_(self):\n",
    "        htmlString = f\"<h1>{self.desc}</h1><table><thead><tr><td>pval</td><td>{self.desc}</td><td>go_num</td><td>number</td></tr></thead>\"\n",
    "        for i in self.list:\n",
    "            htmlString += i._repr_html_()\n",
    "        htmlString += \"</table>\"\n",
    "        return htmlString\n",
    "    \n",
    "    def get_accession(self):\n",
    "        return {i.GO_term:i.protein for i in self.list}"
   ]
  },
  {
   "cell_type": "code",
   "execution_count": null,
   "metadata": {},
   "outputs": [],
   "source": [
    "proteins_hits_GO_annot = GO_list(dmf_plog2, \"molecular function\")\n",
    "\n",
    "proteins_hits_GO_annot"
   ]
  },
  {
   "cell_type": "markdown",
   "metadata": {},
   "source": [
    "## Une deuxième application: volcano plot améliorés\n",
    "###### PANDAS\n",
    "En choisissant comme seuil la valeur `alpha` du TP précédent, veuillez extraires les identifiants uniprot des protéines sur-abondantes (rappel les valeurs d'abondance sont celles de la colonne `Log2 Corrected Abundance Ratio`).\n",
    "\n",
    "Vous devrez avoir dans des listes distinctes:\n",
    "* identifiants uniprot\n",
    "* `Log2 Corrected Abundance Ratio`\n",
    "* `LOG10 Adj.P-val'`\n",
    "\n",
    "###### Représentation graphiques\n",
    "* Pour la catégorie de termes GO (biological_process / molecular_function /cellular_component) de votre choix\n",
    "    * Générer une grille de 4 graphiques \n",
    "    * Dans chaque graphique colorez dans une couleur différentes les protéines porteuses de 4 termes de GO que vous estimez les plus pertinents \n",
    "    * Donnez le nom de la catégorie générale à la grille\n",
    "    * Donnez le nom du terme GO représenté dans chaque graphique avec une couleur de titre cohérente.\n",
    "    "
   ]
  },
  {
   "cell_type": "code",
   "execution_count": null,
   "metadata": {},
   "outputs": [],
   "source": [
    "subset_good = df[df[\"Log2 Corrected Abundance Ratio\"] > -0.096]\n",
    "\n",
    "prot_ration = subset_good[\"Log2 Corrected Abundance Ratio\"].to_list()\n",
    "pval = subset_good[\"LOG10 Adj.P-val\"].to_list()\n",
    "name = subset_good[\"Accession\"].to_list()"
   ]
  },
  {
   "cell_type": "code",
   "execution_count": null,
   "metadata": {},
   "outputs": [],
   "source": [
    "# Beaucoup d'overlap dans les noms des pathways.\n",
    "# Certains pathways représentent la même fonction biologique --> Redondance\n",
    "\n",
    "keep = GO_list(dbp_plog2 , \"biological process\")\n",
    "\n",
    "keep.list = [keep.list[0]] + [keep.list[4]] + [keep.list[8]] + [keep.list[10]]\n",
    "keep"
   ]
  },
  {
   "cell_type": "code",
   "execution_count": null,
   "metadata": {},
   "outputs": [],
   "source": [
    "data = keep.get_accession()\n",
    "\n",
    "f_4, a_4 = plt.subplots(ncols=2, nrows=2, figsize=(8, 8))\n",
    "f_4.tight_layout(pad=5.0)\n",
    "\n",
    "for idx, items in zip(range(4), data.items()):\n",
    "    rw, cl = idx % 2, idx // 2\n",
    "    title, acession_list = items\n",
    "    \n",
    "    # base scatterplot\n",
    "    x, y = df[\"Log2 Corrected Abundance Ratio\"], df[\"LOG10 Adj.P-val\"]\n",
    "    \n",
    "    a_4[rw, cl].scatter(x, y, marker=\"+\", alpha=0.5)\n",
    "    a_4[rw, cl].set_xlabel(\"log2 Fold-Change\")\n",
    "    a_4[rw, cl].set_ylabel(\"-log10(p-value adj)\")\n",
    "    a_4[rw, cl].set_title(title)\n",
    "    \n",
    "    #add GO pathways protein in red\n",
    "    x_c = df[df['Accession'].isin(acession_list)][\"Log2 Corrected Abundance Ratio\"]\n",
    "    y_c = df[df['Accession'].isin(acession_list)][\"LOG10 Adj.P-val\"]\n",
    "        \n",
    "    a_4[rw, cl].scatter(x_c, y_c, c=\"red\", label=\"\")\n",
    "    \n",
    "\n",
    "    \n",
    "## BONUS calc common accession in 4 GO term\n",
    "accessions=[set(i) for i in data.values()]\n",
    "\n",
    "common = accessions[0]\n",
    "for i in accessions[1:]:\n",
    "    common = common & i\n",
    "    \n",
    "common = list(common)\n",
    "    \n",
    "    \n",
    "for idx in range(4):\n",
    "    rw, cl = idx % 2, idx // 2\n",
    "    \n",
    "    x_com = df[df['Accession'].isin(common)][\"Log2 Corrected Abundance Ratio\"]\n",
    "    y_com = df[df['Accession'].isin(common)][\"LOG10 Adj.P-val\"]\n",
    "    \n",
    "    a_4[rw, cl].scatter(x_com, y_com, c=\"green\")"
   ]
  },
  {
   "cell_type": "markdown",
   "metadata": {},
   "source": [
    "# Surprise\n",
    "\n",
    "## Triangle de Sieprinski"
   ]
  },
  {
   "cell_type": "code",
   "execution_count": null,
   "metadata": {},
   "outputs": [],
   "source": [
    "# Library\n",
    "import math\n",
    "from matplotlib.patches import Polygon"
   ]
  },
  {
   "cell_type": "code",
   "execution_count": null,
   "metadata": {},
   "outputs": [],
   "source": [
    "# Definition des classes\n",
    "\n",
    "class Point:\n",
    "    def __init__(self, x, y):\n",
    "        self.x = x\n",
    "        self.y = y\n",
    "\n",
    "\n",
    "class Triangle:\n",
    "    def __init__(self, p1, p2, p3):\n",
    "        self.p1 = p1\n",
    "        self.p2 = p2\n",
    "        self.p3 = p3\n",
    "\n",
    "    def __repr__(self):\n",
    "        return(f\"p1 : ({self.p1.x}, {self.p1.y}), p2 : ({self.p2.x}, {self.p2.y}), p3 : ({self.p3.x}, {self.p3.y})\")"
   ]
  },
  {
   "cell_type": "code",
   "execution_count": null,
   "metadata": {},
   "outputs": [],
   "source": [
    "# Definition des fonctions\n",
    "\n",
    "def draw_triangle(p1, p2, p3, col = \"black\"):\n",
    "\n",
    "    fig, ax = plt.subplots(figsize = [5,5])\n",
    "    ax.plot([p1.x,p2.x,p3.x], [p1.y,p2.y,p3.y], color = col)\n",
    "    ax.fill_between([p1.x,p2.x,p3.x], [p1.y,p2.y,p3.y], color = col)\n",
    "    \n",
    "    return fig, ax\n",
    "\n",
    "\n",
    "def draw_triangle_recursif(ax, liste_triangle, n, max_iter, col = \"white\"):\n",
    "\n",
    "    liste_triangle_temp = []\n",
    "    if n < max_iter:\n",
    "\n",
    "        for triangle in liste_triangle:\n",
    "\n",
    "            # print(f\"Triangle = {triangle}\")\n",
    "\n",
    "            p4 = Point((triangle.p1.x + triangle.p2.x) / 2, (triangle.p1.y + triangle.p2.y) /2)\n",
    "            p5 = Point((triangle.p1.x + triangle.p3.x) / 2, (triangle.p1.y + triangle.p3.y) /2)\n",
    "            p6 = Point((triangle.p2.x + triangle.p3.x) / 2, (triangle.p2.y + triangle.p3.y) /2)\n",
    "\n",
    "            patche = Polygon([[p4.x, p4.y], [p5.x, p5.y], [p6.x, p6.y]], fill = True, color = col, linewidth = 0.00001)\n",
    "            ax.add_patch(patche)\n",
    "            \n",
    "            # print(f\"n : {n}, len(liste) = {len(liste_triangle)}\")\n",
    "            liste_triangle_temp.append(Triangle(triangle.p1, p4, p5))\n",
    "            liste_triangle_temp.append(Triangle(p4, triangle.p2, p6))\n",
    "            liste_triangle_temp.append(Triangle(p5, p6, triangle.p3))\n",
    "    \n",
    "        n += 1\n",
    "\n",
    "        return(draw_triangle_recursif(ax, liste_triangle_temp, n, max_iter))"
   ]
  },
  {
   "cell_type": "code",
   "execution_count": null,
   "metadata": {},
   "outputs": [],
   "source": [
    "p1 = Point(0,0)\n",
    "p2 = Point(200,200)\n",
    "p3 = Point(400,0)\n",
    "\n",
    "test = Triangle(p1, p2, p3)\n",
    "\n",
    "test2 = [test]\n",
    "\n",
    "fig, ax = draw_triangle(p1,p2,p3)\n",
    "\n",
    "\n",
    "n = 0\n",
    "\n",
    "\n",
    "# Changer pour augmenter ou diminuer le nombre de récursion pour le triangle de sierpinski\n",
    "# Attention, complixité = 3^n\n",
    "max_iter = 7\n",
    "\n",
    "\n",
    "\n",
    "draw_triangle_recursif(ax, test2, n, max_iter)\n",
    "\n",
    "\n",
    "ax.text(0, 200, f\"nombre d'itération = {max_iter}\")\n",
    "plt.show()"
   ]
  }
 ],
 "metadata": {
  "kernelspec": {
   "display_name": "Python [conda env:anaconda3-tp-interactomics]",
   "language": "python",
   "name": "conda-env-anaconda3-tp-interactomics-py"
  },
  "language_info": {
   "codemirror_mode": {
    "name": "ipython",
    "version": 3
   },
   "file_extension": ".py",
   "mimetype": "text/x-python",
   "name": "python",
   "nbconvert_exporter": "python",
   "pygments_lexer": "ipython3",
   "version": "3.8.0"
  }
 },
 "nbformat": 4,
 "nbformat_minor": 2
}
